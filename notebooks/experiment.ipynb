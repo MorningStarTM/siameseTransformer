{
 "cells": [
  {
   "cell_type": "code",
   "execution_count": 1,
   "metadata": {},
   "outputs": [
    {
     "data": {
      "text/plain": [
       "'e:\\\\github_clone\\\\siameseTransformer'"
      ]
     },
     "execution_count": 1,
     "metadata": {},
     "output_type": "execute_result"
    }
   ],
   "source": [
    "import os\n",
    "os.chdir('../')\n",
    "os.getcwd()"
   ]
  },
  {
   "cell_type": "code",
   "execution_count": 2,
   "metadata": {},
   "outputs": [],
   "source": [
    "from src import CNN_ViT\n",
    "from src import build_resnet\n",
    "from keras import layers\n",
    "import numpy as np"
   ]
  },
  {
   "cell_type": "code",
   "execution_count": 3,
   "metadata": {},
   "outputs": [],
   "source": [
    "hp = {}\n",
    "hp['image_size'] = 256\n",
    "hp['num_channels'] = 3\n",
    "hp['patch_size'] = 32\n",
    "hp['num_patches'] = (hp['image_size']**2) // (hp[\"patch_size\"]**2)\n",
    "hp[\"flat_patches_shape\"] = (hp[\"num_patches\"], hp['patch_size']*hp['patch_size']*hp[\"num_channels\"])\n",
    "hp['batch_size'] = 2\n",
    "hp['lr'] = 1e-5\n",
    "hp[\"num_epochs\"] = 30\n",
    "hp['num_classes'] = 3\n",
    "hp[\"num_layers\"] = 3\n",
    "hp[\"hidden_dim\"] = 256\n",
    "hp[\"mlp_dim\"] = 256\n",
    "hp['num_heads'] = 3\n",
    "hp['dropout_rate'] = 0.1\n",
    "hp['class_names'] = [\"s1\", \"s2\", \"s3\"]"
   ]
  },
  {
   "cell_type": "code",
   "execution_count": 4,
   "metadata": {},
   "outputs": [
    {
     "name": "stdout",
     "output_type": "stream",
     "text": [
      "(None, 256, 256, 3)\n",
      "(None, 8, 8, 256)\n",
      "(None, 8, 8, 256)\n",
      "patch embedding : (None, 64, 256)\n",
      "position embeding : (64, 256)\n"
     ]
    }
   ],
   "source": [
    "model = CNN_ViT(hp)"
   ]
  },
  {
   "cell_type": "code",
   "execution_count": 5,
   "metadata": {},
   "outputs": [
    {
     "data": {
      "text/plain": [
       "(1, 256, 256, 3)"
      ]
     },
     "execution_count": 5,
     "metadata": {},
     "output_type": "execute_result"
    }
   ],
   "source": [
    "array = np.random.randint(0, 256, (256, 256, 3), dtype=np.uint8)\n",
    "data = np.expand_dims(array, axis=0)\n",
    "data.shape"
   ]
  },
  {
   "cell_type": "code",
   "execution_count": null,
   "metadata": {},
   "outputs": [],
   "source": []
  }
 ],
 "metadata": {
  "kernelspec": {
   "display_name": "base",
   "language": "python",
   "name": "python3"
  },
  "language_info": {
   "codemirror_mode": {
    "name": "ipython",
    "version": 3
   },
   "file_extension": ".py",
   "mimetype": "text/x-python",
   "name": "python",
   "nbconvert_exporter": "python",
   "pygments_lexer": "ipython3",
   "version": "3.9.13"
  }
 },
 "nbformat": 4,
 "nbformat_minor": 2
}
