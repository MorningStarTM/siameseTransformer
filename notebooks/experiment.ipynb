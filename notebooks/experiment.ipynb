{
 "cells": [
  {
   "cell_type": "code",
   "execution_count": 1,
   "metadata": {},
   "outputs": [
    {
     "data": {
      "text/plain": [
       "'e:\\\\github_clone\\\\siameseTransformer'"
      ]
     },
     "execution_count": 1,
     "metadata": {},
     "output_type": "execute_result"
    }
   ],
   "source": [
    "import os\n",
    "os.chdir('../')\n",
    "os.getcwd()"
   ]
  },
  {
   "cell_type": "code",
   "execution_count": 5,
   "metadata": {},
   "outputs": [],
   "source": [
    "from src import SiameseTransformer\n",
    "from src.dataset import create_siamese_dataset\n",
    "from keras import layers\n",
    "import numpy as np"
   ]
  },
  {
   "cell_type": "code",
   "execution_count": 3,
   "metadata": {},
   "outputs": [],
   "source": [
    "\n",
    "hp = {}\n",
    "hp['image_size'] = 256\n",
    "hp['num_channels'] = 3\n",
    "hp['patch_size'] = 32\n",
    "hp['num_patches'] = (hp['image_size']**2) // (hp[\"patch_size\"]**2)\n",
    "hp[\"flat_patches_shape\"] = (hp[\"num_patches\"], hp['patch_size']*hp['patch_size']*hp[\"num_channels\"])\n",
    "hp['batch_size'] = 2\n",
    "hp['lr'] = 1e-5\n",
    "hp[\"num_epochs\"] = 30\n",
    "hp['num_classes'] = 3\n",
    "hp[\"num_layers\"] = 1\n",
    "hp[\"hidden_dim\"] = 256\n",
    "hp[\"mlp_dim\"] = 128\n",
    "hp['num_heads'] = 1\n",
    "hp['dropout_rate'] = 0.1\n",
    "hp['class_names'] = [\"s1\", \"s2\", \"s3\"]"
   ]
  },
  {
   "cell_type": "code",
   "execution_count": 9,
   "metadata": {},
   "outputs": [],
   "source": [
    "siamese = SiameseTransformer(target_size=(256,256,3))\n",
    "siamese.compile(optimizer='adam', loss='binary_crossentropy', metrics=['accuracy'])"
   ]
  },
  {
   "cell_type": "code",
   "execution_count": 7,
   "metadata": {},
   "outputs": [
    {
     "name": "stdout",
     "output_type": "stream",
     "text": [
      "Loaded 64 images from class 's1'\n",
      "Loaded 44 images from class 's2'\n",
      "Loaded 25 images from class 's3'\n",
      "Total images loaded: 133\n",
      "Class names: ['s1', 's2', 's3']\n",
      "Total pairs generated: 266\n"
     ]
    }
   ],
   "source": [
    "folder_path = 'data\\\\derm7pt-cropped\\\\Derm7pt_Cropped'\n",
    "image_size = (256,256)\n",
    "batch_size = 32\n",
    "\n",
    "# Create the Siamese dataset\n",
    "siamese_dataset = create_siamese_dataset(folder_path, image_size, batch_size)"
   ]
  },
  {
   "cell_type": "code",
   "execution_count": 10,
   "metadata": {},
   "outputs": [
    {
     "name": "stdout",
     "output_type": "stream",
     "text": [
      "Epoch 1/10\n",
      "9/9 [==============================] - 12s 413ms/step - loss: 0.7383 - accuracy: 0.4962\n",
      "Epoch 2/10\n",
      "9/9 [==============================] - 3s 323ms/step - loss: 0.7792 - accuracy: 0.4436\n",
      "Epoch 3/10\n",
      "9/9 [==============================] - 3s 324ms/step - loss: 0.7328 - accuracy: 0.5301\n",
      "Epoch 4/10\n",
      "9/9 [==============================] - 3s 328ms/step - loss: 0.7288 - accuracy: 0.5263\n",
      "Epoch 5/10\n",
      "9/9 [==============================] - 3s 326ms/step - loss: 0.7206 - accuracy: 0.5263\n",
      "Epoch 6/10\n",
      "9/9 [==============================] - 3s 326ms/step - loss: 0.7176 - accuracy: 0.5263\n",
      "Epoch 7/10\n",
      "9/9 [==============================] - 3s 327ms/step - loss: 0.7183 - accuracy: 0.5376\n",
      "Epoch 8/10\n",
      "9/9 [==============================] - 3s 330ms/step - loss: 0.7357 - accuracy: 0.5263\n",
      "Epoch 9/10\n",
      "9/9 [==============================] - 3s 328ms/step - loss: 0.6800 - accuracy: 0.5677\n",
      "Epoch 10/10\n",
      "9/9 [==============================] - 3s 329ms/step - loss: 0.7003 - accuracy: 0.5451\n"
     ]
    },
    {
     "data": {
      "text/plain": [
       "<keras.callbacks.History at 0x1ae2aafe850>"
      ]
     },
     "execution_count": 10,
     "metadata": {},
     "output_type": "execute_result"
    }
   ],
   "source": [
    "epochs = 10\n",
    "\n",
    "# Train the model\n",
    "siamese.fit(siamese_dataset, epochs=epochs)"
   ]
  },
  {
   "cell_type": "code",
   "execution_count": null,
   "metadata": {},
   "outputs": [],
   "source": []
  }
 ],
 "metadata": {
  "kernelspec": {
   "display_name": "base",
   "language": "python",
   "name": "python3"
  },
  "language_info": {
   "codemirror_mode": {
    "name": "ipython",
    "version": 3
   },
   "file_extension": ".py",
   "mimetype": "text/x-python",
   "name": "python",
   "nbconvert_exporter": "python",
   "pygments_lexer": "ipython3",
   "version": "3.9.13"
  }
 },
 "nbformat": 4,
 "nbformat_minor": 2
}
