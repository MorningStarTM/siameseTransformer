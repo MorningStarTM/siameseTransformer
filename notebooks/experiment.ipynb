{
 "cells": [
  {
   "cell_type": "code",
   "execution_count": 2,
   "metadata": {},
   "outputs": [
    {
     "data": {
      "text/plain": [
       "'e:\\\\github_clone\\\\siameseTransformer'"
      ]
     },
     "execution_count": 2,
     "metadata": {},
     "output_type": "execute_result"
    }
   ],
   "source": [
    "import os\n",
    "os.chdir('../')\n",
    "os.getcwd()"
   ]
  },
  {
   "cell_type": "code",
   "execution_count": 3,
   "metadata": {},
   "outputs": [
    {
     "name": "stdout",
     "output_type": "stream",
     "text": [
      "(None, 256, 256, 3)\n",
      "(None, 8, 8, 256)\n",
      "(None, 8, 8, 256)\n",
      "patch embedding : (None, 64, 256)\n",
      "position embeding : (64, 256)\n"
     ]
    }
   ],
   "source": [
    "from src import SiameseTransformer\n",
    "from src.dataset import create_siamese_dataset\n",
    "from keras import layers\n",
    "import numpy as np\n",
    "from keras.callbacks import Callback, ModelCheckpoint"
   ]
  },
  {
   "cell_type": "code",
   "execution_count": 4,
   "metadata": {},
   "outputs": [],
   "source": [
    "\n",
    "hp = {}\n",
    "hp['image_size'] = 256\n",
    "hp['num_channels'] = 3\n",
    "hp['patch_size'] = 32\n",
    "hp['num_patches'] = (hp['image_size']**2) // (hp[\"patch_size\"]**2)\n",
    "hp[\"flat_patches_shape\"] = (hp[\"num_patches\"], hp['patch_size']*hp['patch_size']*hp[\"num_channels\"])\n",
    "hp['batch_size'] = 2\n",
    "hp['lr'] = 1e-5\n",
    "hp[\"num_epochs\"] = 30\n",
    "hp['num_classes'] = 3\n",
    "hp[\"num_layers\"] = 1\n",
    "hp[\"hidden_dim\"] = 256\n",
    "hp[\"mlp_dim\"] = 128\n",
    "hp['num_heads'] = 1\n",
    "hp['dropout_rate'] = 0.1\n",
    "hp['class_names'] = [\"s1\", \"s2\", \"s3\"]\n",
    "model_path = \"models\\\\siameseTransformer.keras\""
   ]
  },
  {
   "cell_type": "code",
   "execution_count": 5,
   "metadata": {},
   "outputs": [],
   "source": [
    "siamese = SiameseTransformer(target_size=(256,256,3))\n",
    "siamese.compile(optimizer='adam', loss='binary_crossentropy', metrics=['accuracy'])\n",
    "\n",
    "callbacks = [\n",
    "    ModelCheckpoint(model_path, monitor='accuracy', save_best_only=True, verbose=1)\n",
    "]"
   ]
  },
  {
   "cell_type": "code",
   "execution_count": 6,
   "metadata": {},
   "outputs": [
    {
     "name": "stdout",
     "output_type": "stream",
     "text": [
      "Loaded 64 images from class 's1'\n",
      "Loaded 44 images from class 's2'\n",
      "Loaded 25 images from class 's3'\n",
      "Total images loaded: 133\n",
      "Class names: ['s1', 's2', 's3']\n",
      "Total pairs generated: 266\n"
     ]
    }
   ],
   "source": [
    "folder_path = 'data\\\\derm7pt-cropped\\\\Derm7pt_Cropped'\n",
    "image_size = (256,256)\n",
    "batch_size = 32\n",
    "\n",
    "# Create the Siamese dataset\n",
    "siamese_dataset = create_siamese_dataset(folder_path, image_size, batch_size)"
   ]
  },
  {
   "cell_type": "code",
   "execution_count": 7,
   "metadata": {},
   "outputs": [
    {
     "name": "stdout",
     "output_type": "stream",
     "text": [
      "Epoch 1/30\n",
      "9/9 [==============================] - 15s 436ms/step - loss: 0.7834 - accuracy: 0.4887\n",
      "Epoch 2/30\n",
      "9/9 [==============================] - 3s 329ms/step - loss: 0.7418 - accuracy: 0.5113\n",
      "Epoch 3/30\n",
      "9/9 [==============================] - 3s 328ms/step - loss: 0.7655 - accuracy: 0.5113\n",
      "Epoch 4/30\n",
      "9/9 [==============================] - 3s 329ms/step - loss: 0.7513 - accuracy: 0.5301\n",
      "Epoch 5/30\n",
      "9/9 [==============================] - 3s 329ms/step - loss: 0.7321 - accuracy: 0.5414\n",
      "Epoch 6/30\n",
      "9/9 [==============================] - 3s 328ms/step - loss: 0.7294 - accuracy: 0.5376\n",
      "Epoch 7/30\n",
      "9/9 [==============================] - 3s 330ms/step - loss: 0.7569 - accuracy: 0.5188\n",
      "Epoch 8/30\n",
      "9/9 [==============================] - 3s 330ms/step - loss: 0.7159 - accuracy: 0.5414\n",
      "Epoch 9/30\n",
      "9/9 [==============================] - 3s 330ms/step - loss: 0.7008 - accuracy: 0.5564\n",
      "Epoch 10/30\n",
      "9/9 [==============================] - 3s 330ms/step - loss: 0.7191 - accuracy: 0.5226\n",
      "Epoch 11/30\n",
      "9/9 [==============================] - 3s 332ms/step - loss: 0.7027 - accuracy: 0.5677\n",
      "Epoch 12/30\n",
      "9/9 [==============================] - 3s 332ms/step - loss: 0.7025 - accuracy: 0.5865\n",
      "Epoch 13/30\n",
      "9/9 [==============================] - 3s 335ms/step - loss: 0.6836 - accuracy: 0.6241\n",
      "Epoch 14/30\n",
      "9/9 [==============================] - 3s 332ms/step - loss: 0.6917 - accuracy: 0.5752\n",
      "Epoch 15/30\n",
      "9/9 [==============================] - 3s 333ms/step - loss: 0.7059 - accuracy: 0.5602\n",
      "Epoch 16/30\n",
      "9/9 [==============================] - 3s 331ms/step - loss: 0.6979 - accuracy: 0.5902\n",
      "Epoch 17/30\n",
      "9/9 [==============================] - 3s 330ms/step - loss: 0.6946 - accuracy: 0.5677\n",
      "Epoch 18/30\n",
      "9/9 [==============================] - 3s 330ms/step - loss: 0.6740 - accuracy: 0.5827\n",
      "Epoch 19/30\n",
      "9/9 [==============================] - 3s 335ms/step - loss: 0.7024 - accuracy: 0.5639\n",
      "Epoch 20/30\n",
      "9/9 [==============================] - 3s 337ms/step - loss: 0.7056 - accuracy: 0.5489\n",
      "Epoch 21/30\n",
      "9/9 [==============================] - 3s 328ms/step - loss: 0.6954 - accuracy: 0.5714\n",
      "Epoch 22/30\n",
      "9/9 [==============================] - 3s 334ms/step - loss: 0.6800 - accuracy: 0.5639\n",
      "Epoch 23/30\n",
      "9/9 [==============================] - 3s 329ms/step - loss: 0.6805 - accuracy: 0.5977\n",
      "Epoch 24/30\n",
      "9/9 [==============================] - 3s 334ms/step - loss: 0.6771 - accuracy: 0.5714\n",
      "Epoch 25/30\n",
      "9/9 [==============================] - 3s 330ms/step - loss: 0.6854 - accuracy: 0.5564\n",
      "Epoch 26/30\n",
      "9/9 [==============================] - 3s 333ms/step - loss: 0.6430 - accuracy: 0.6504\n",
      "Epoch 27/30\n",
      "9/9 [==============================] - 3s 329ms/step - loss: 0.7068 - accuracy: 0.5414\n",
      "Epoch 28/30\n",
      "9/9 [==============================] - 3s 329ms/step - loss: 0.6800 - accuracy: 0.5789\n",
      "Epoch 29/30\n",
      "9/9 [==============================] - 3s 331ms/step - loss: 0.7297 - accuracy: 0.5075\n",
      "Epoch 30/30\n",
      "9/9 [==============================] - 3s 334ms/step - loss: 0.6978 - accuracy: 0.5489\n"
     ]
    },
    {
     "data": {
      "text/plain": [
       "<keras.callbacks.History at 0x16d54a50820>"
      ]
     },
     "execution_count": 7,
     "metadata": {},
     "output_type": "execute_result"
    }
   ],
   "source": [
    "epochs = 30\n",
    "\n",
    "# Train the model\n",
    "siamese.fit(siamese_dataset, epochs=epochs)"
   ]
  },
  {
   "cell_type": "code",
   "execution_count": 8,
   "metadata": {},
   "outputs": [
    {
     "name": "stdout",
     "output_type": "stream",
     "text": [
      "9/9 [==============================] - 2s 119ms/step - loss: 0.7143 - accuracy: 0.5000\n"
     ]
    },
    {
     "data": {
      "text/plain": [
       "[0.7142833471298218, 0.5]"
      ]
     },
     "execution_count": 8,
     "metadata": {},
     "output_type": "execute_result"
    }
   ],
   "source": [
    "siamese.evaluate(siamese_dataset)"
   ]
  },
  {
   "cell_type": "code",
   "execution_count": null,
   "metadata": {},
   "outputs": [],
   "source": []
  }
 ],
 "metadata": {
  "kernelspec": {
   "display_name": "base",
   "language": "python",
   "name": "python3"
  },
  "language_info": {
   "codemirror_mode": {
    "name": "ipython",
    "version": 3
   },
   "file_extension": ".py",
   "mimetype": "text/x-python",
   "name": "python",
   "nbconvert_exporter": "python",
   "pygments_lexer": "ipython3",
   "version": "3.9.13"
  }
 },
 "nbformat": 4,
 "nbformat_minor": 2
}
